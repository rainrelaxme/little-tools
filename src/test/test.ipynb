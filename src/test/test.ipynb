{
 "cells": [
  {
   "cell_type": "code",
   "execution_count": 12,
   "id": "a47104bb",
   "metadata": {},
   "outputs": [],
   "source": [
    "import os\n",
    "import re   # 引入正则\n",
    "import pdb"
   ]
  },
  {
   "cell_type": "code",
   "execution_count": null,
   "id": "60dd5346",
   "metadata": {},
   "outputs": [
    {
     "name": "stdout",
     "output_type": "stream",
     "text": [
      "请输入文件夹路径：F:\\TEST\n",
      "> \u001b[1;32mc:\\users\\zxr11\\appdata\\local\\temp\\ipykernel_18944\\37605741.py\u001b[0m(8)\u001b[0;36mget_absolute_filelist\u001b[1;34m()\u001b[0m\n",
      "\n",
      "ipdb> n\n",
      "> \u001b[1;32mc:\\users\\zxr11\\appdata\\local\\temp\\ipykernel_18944\\37605741.py\u001b[0m(10)\u001b[0;36mget_absolute_filelist\u001b[1;34m()\u001b[0m\n",
      "\n",
      "ipdb> n\n",
      "> \u001b[1;32mc:\\users\\zxr11\\appdata\\local\\temp\\ipykernel_18944\\37605741.py\u001b[0m(11)\u001b[0;36mget_absolute_filelist\u001b[1;34m()\u001b[0m\n",
      "\n",
      "ipdb> n\n",
      "> \u001b[1;32mc:\\users\\zxr11\\appdata\\local\\temp\\ipykernel_18944\\37605741.py\u001b[0m(5)\u001b[0;36mget_absolute_filelist\u001b[1;34m()\u001b[0m\n",
      "\n",
      "ipdb> n\n",
      "> \u001b[1;32mc:\\users\\zxr11\\appdata\\local\\temp\\ipykernel_18944\\37605741.py\u001b[0m(6)\u001b[0;36mget_absolute_filelist\u001b[1;34m()\u001b[0m\n",
      "\n",
      "ipdb> n\n",
      "> \u001b[1;32mc:\\users\\zxr11\\appdata\\local\\temp\\ipykernel_18944\\37605741.py\u001b[0m(7)\u001b[0;36mget_absolute_filelist\u001b[1;34m()\u001b[0m\n",
      "\n",
      "ipdb> n\n",
      "> \u001b[1;32mc:\\users\\zxr11\\appdata\\local\\temp\\ipykernel_18944\\37605741.py\u001b[0m(8)\u001b[0;36mget_absolute_filelist\u001b[1;34m()\u001b[0m\n",
      "\n",
      "ipdb> \n",
      "ipdb> n\n",
      "> \u001b[1;32mc:\\users\\zxr11\\appdata\\local\\temp\\ipykernel_18944\\37605741.py\u001b[0m(10)\u001b[0;36mget_absolute_filelist\u001b[1;34m()\u001b[0m\n",
      "\n",
      "ipdb> \n",
      "> \u001b[1;32mc:\\users\\zxr11\\appdata\\local\\temp\\ipykernel_18944\\37605741.py\u001b[0m(11)\u001b[0;36mget_absolute_filelist\u001b[1;34m()\u001b[0m\n",
      "\n",
      "ipdb> \n",
      "> \u001b[1;32mc:\\users\\zxr11\\appdata\\local\\temp\\ipykernel_18944\\37605741.py\u001b[0m(5)\u001b[0;36mget_absolute_filelist\u001b[1;34m()\u001b[0m\n",
      "\n",
      "ipdb> \n",
      "> \u001b[1;32mc:\\users\\zxr11\\appdata\\local\\temp\\ipykernel_18944\\37605741.py\u001b[0m(6)\u001b[0;36mget_absolute_filelist\u001b[1;34m()\u001b[0m\n",
      "\n",
      "ipdb> \n",
      "> \u001b[1;32mc:\\users\\zxr11\\appdata\\local\\temp\\ipykernel_18944\\37605741.py\u001b[0m(7)\u001b[0;36mget_absolute_filelist\u001b[1;34m()\u001b[0m\n",
      "\n",
      "ipdb> \n",
      "> \u001b[1;32mc:\\users\\zxr11\\appdata\\local\\temp\\ipykernel_18944\\37605741.py\u001b[0m(8)\u001b[0;36mget_absolute_filelist\u001b[1;34m()\u001b[0m\n",
      "\n"
     ]
    }
   ],
   "source": [
    "def get_absolute_filelist(path):\n",
    "    \"\"\"获取文件夹下的文件列表的绝对路径\"\"\"\n",
    "    files = os.listdir(path)\n",
    "    files_list = []\n",
    "    for file in files:\n",
    "        file_path = os.path.join(path, file)\n",
    "        pdb.set_trace()\n",
    "        if os.path.isdir(file_path):    # 判断是否为目录\n",
    "            get_absolute_filelist(file_path)\n",
    "        elif os.path.isfile(file_path):     # 判断是否为文件\n",
    "            files_list.append(file_path)\n",
    "    return files_list\n",
    "\n",
    "\n",
    "path = input(\"请输入文件夹路径：\")\n",
    "print(get_absolute_filelist(path))"
   ]
  },
  {
   "cell_type": "code",
   "execution_count": null,
   "id": "81acde9c",
   "metadata": {},
   "outputs": [],
   "source": []
  }
 ],
 "metadata": {
  "kernelspec": {
   "display_name": "Python 3 (ipykernel)",
   "language": "python",
   "name": "python3"
  },
  "language_info": {
   "codemirror_mode": {
    "name": "ipython",
    "version": 3
   },
   "file_extension": ".py",
   "mimetype": "text/x-python",
   "name": "python",
   "nbconvert_exporter": "python",
   "pygments_lexer": "ipython3",
   "version": "3.10.9"
  }
 },
 "nbformat": 4,
 "nbformat_minor": 5
}
