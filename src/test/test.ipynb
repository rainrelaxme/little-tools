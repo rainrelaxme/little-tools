{
 "cells": [
  {
   "cell_type": "code",
   "execution_count": 6,
   "id": "43206f79",
   "metadata": {},
   "outputs": [],
   "source": [
    "import os\n",
    "# 引入正则\n",
    "import re"
   ]
  },
  {
   "cell_type": "code",
   "execution_count": 7,
   "id": "f3de0fa0",
   "metadata": {},
   "outputs": [
    {
     "name": "stdout",
     "output_type": "stream",
     "text": [
      "aaaa-b-c\n"
     ]
    }
   ],
   "source": [
    "#!/usr/bin/python\n",
    "# -*- coding: UTF-8 -*-\n",
    " \n",
    "symbol = \"-\";\n",
    "seq = (\"aaaa\", \"b\", \"c\"); # 字符串序列\n",
    "result = symbol.join( seq )\n",
    "print(result)"
   ]
  },
  {
   "cell_type": "code",
   "execution_count": null,
   "id": "6c38af58",
   "metadata": {},
   "outputs": [],
   "source": [
    "def add_x(name, x):\n",
    "    \"\"\"文件名称加上自定义内容\"\"\"\n",
    "    newName = '-'.join(name)\n",
    "    return newName"
   ]
  },
  {
   "cell_type": "code",
   "execution_count": null,
   "id": "ef07f4a4",
   "metadata": {},
   "outputs": [],
   "source": [
    "print"
   ]
  }
 ],
 "metadata": {
  "kernelspec": {
   "display_name": "Python 3 (ipykernel)",
   "language": "python",
   "name": "python3"
  },
  "language_info": {
   "codemirror_mode": {
    "name": "ipython",
    "version": 3
   },
   "file_extension": ".py",
   "mimetype": "text/x-python",
   "name": "python",
   "nbconvert_exporter": "python",
   "pygments_lexer": "ipython3",
   "version": "3.9.6"
  }
 },
 "nbformat": 4,
 "nbformat_minor": 5
}
