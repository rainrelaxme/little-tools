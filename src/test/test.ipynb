{
 "cells": [
  {
   "cell_type": "code",
   "execution_count": 6,
   "id": "a47104bb",
   "metadata": {},
   "outputs": [],
   "source": [
    "import xlrd  # version：1.2.0，读取Excel文件的包，不能用2.0以上版本\n",
    "import tkinter as tk  # 导入打开文件浏览器的包\n",
    "from tkinter import filedialog"
   ]
  },
  {
   "cell_type": "code",
   "execution_count": 7,
   "id": "81acde9c",
   "metadata": {},
   "outputs": [],
   "source": [
    "def save_file(initialfile=\"Untitled\", filetypes=None, defaultextension=None):\n",
    "    \"\"\"打开文件浏览器，存储文件\"\"\"\n",
    "    \"\"\"initialfile:默认文件名，filetypes：文件后缀名选择，\"\"\"\n",
    "    if filetypes is None:   # 形参调整，不用写在括号里\n",
    "        filetypes = [(\"All files\", \"*.*\")]\n",
    "    root = tk.Tk()  # 实例化\n",
    "    root.withdraw()  # 销毁窗口\n",
    "    file = tk.filedialog.asksaveasfile(filetypes=filetypes, initialfile=initialfile, defaultextension=defaultextension)\n",
    "    return file"
   ]
  },
  {
   "cell_type": "code",
   "execution_count": 8,
   "id": "c9a4122e",
   "metadata": {},
   "outputs": [
    {
     "data": {
      "text/plain": [
       "<_io.TextIOWrapper name='C:/Users/ichuk/Desktop/Untitled' mode='w' encoding='cp936'>"
      ]
     },
     "execution_count": 8,
     "metadata": {},
     "output_type": "execute_result"
    }
   ],
   "source": [
    "filetypes = [(\"Microsoft Excel文件\", \"*.xlsx\"),\n",
    "                 (\"Microsoft Excel文件\", \"*.xls\"),\n",
    "                 (\"CSV文件\", \"*.csv\")]\n",
    "save_file(filetypes=filetypes)"
   ]
  },
  {
   "cell_type": "code",
   "execution_count": null,
   "id": "1ff2a273",
   "metadata": {},
   "outputs": [],
   "source": []
  }
 ],
 "metadata": {
  "kernelspec": {
   "display_name": "Python 3 (ipykernel)",
   "language": "python",
   "name": "python3"
  },
  "language_info": {
   "codemirror_mode": {
    "name": "ipython",
    "version": 3
   },
   "file_extension": ".py",
   "mimetype": "text/x-python",
   "name": "python",
   "nbconvert_exporter": "python",
   "pygments_lexer": "ipython3",
   "version": "3.8.7"
  }
 },
 "nbformat": 4,
 "nbformat_minor": 5
}
