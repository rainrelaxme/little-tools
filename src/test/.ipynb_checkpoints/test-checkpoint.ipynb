{
 "cells": [
  {
   "cell_type": "code",
   "execution_count": 7,
   "id": "40f1ec09",
   "metadata": {},
   "outputs": [
    {
     "name": "stdout",
     "output_type": "stream",
     "text": [
      "请输入文件路径(结尾加上/)：F:\\TEST\n"
     ]
    }
   ],
   "source": [
    "# -*- coding:utf-8 -*-\n",
    "import os \n",
    "\n",
    "def find_prefix_of_path(path, file_list):\n",
    "    files = os.listdir(path)\n",
    "    for file_name in files:\n",
    "        file_path = os.path.join(path, file_name)\n",
    "\n",
    "        if os.path.isdir(file_path):    #判断是否为目录\n",
    "            find_prefix_of_path(file_path, file_list)\n",
    "        elif os.path.isfile(file_path):    #判断是否为文件\n",
    "            file_list.append(file_path)\n",
    "\n",
    "paths = input(\"请输入文件夹路径：\")\n",
    "file_list = []\n",
    "find_prefix_of_path(paths, file_list)\n",
    "\n",
    "print(file_list)\n"
   ]
  }
 ],
 "metadata": {
  "kernelspec": {
   "display_name": "Python 3 (ipykernel)",
   "language": "python",
   "name": "python3"
  },
  "language_info": {
   "codemirror_mode": {
    "name": "ipython",
    "version": 3
   },
   "file_extension": ".py",
   "mimetype": "text/x-python",
   "name": "python",
   "nbconvert_exporter": "python",
   "pygments_lexer": "ipython3",
   "version": "3.10.9"
  }
 },
 "nbformat": 4,
 "nbformat_minor": 5
}
