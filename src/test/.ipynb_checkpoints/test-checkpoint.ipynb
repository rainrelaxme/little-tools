{
 "cells": [
  {
   "cell_type": "code",
   "execution_count": 1,
   "id": "43206f79",
   "metadata": {},
   "outputs": [],
   "source": [
    "import os"
   ]
  },
  {
   "cell_type": "code",
   "execution_count": 2,
   "id": "80aaad06",
   "metadata": {},
   "outputs": [],
   "source": [
    "def rename_add_1(path):\n",
    "    file_list = os.listdir(path)\n",
    "    makeup_file = {}\n",
    "    for file in file_list:\n",
    "        absolute_file = path + \"/\" + file\n",
    "        forward_name = os.path.splitext(file)[0].replace(\" \", \"\")\n",
    "        forward_name = add_space(forward_name)\n",
    "        back_name = os.path.splitext(file)[1]\n",
    "        # makeup_file[forward_name] = os.path.splitext(file)[1]\n",
    "        # print(file,\"对应:\", makeup_file)\n",
    "        old_name = absolute_file\n",
    "\n",
    "        if os.path.isfile(absolute_file):\n",
    "            if file.endswith(\".py\") or file.endswith(\".exe\") or file.endswith(\".txt\") or file.endswith(\".ipynb\"):\n",
    "                continue\n",
    "            old_name = absolute_file\n",
    "            new_name = path + \"/\" + forward_name + back_name\n",
    "            # print(old_name, \"对应\", new_name)\n",
    "            os.rename(old_name, new_name)\n",
    "            print(\"新文件名：\", new_name)\n",
    "        else:\n",
    "            rename_add_1(absolute_file)"
   ]
  },
  {
   "cell_type": "code",
   "execution_count": null,
   "id": "3838797e",
   "metadata": {},
   "outputs": [],
   "source": [
    "path = input('请输入地址')\n",
    "rename_add_1(path)"
   ]
  }
 ],
 "metadata": {
  "kernelspec": {
   "display_name": "Python 3 (ipykernel)",
   "language": "python",
   "name": "python3"
  },
  "language_info": {
   "codemirror_mode": {
    "name": "ipython",
    "version": 3
   },
   "file_extension": ".py",
   "mimetype": "text/x-python",
   "name": "python",
   "nbconvert_exporter": "python",
   "pygments_lexer": "ipython3",
   "version": "3.9.6"
  }
 },
 "nbformat": 4,
 "nbformat_minor": 5
}
